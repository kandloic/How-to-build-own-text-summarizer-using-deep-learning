{
 "cells": [
  {
   "cell_type": "markdown",
   "metadata": {
    "colab_type": "text",
    "id": "qFuL-RBgXqgU"
   },
   "source": [
    "In this notebook, we will build an abstractive based text summarizer using deep learning from the scratch in python using keras\n",
    "\n",
    "I recommend you to go through the article over [here](https://www.analyticsvidhya.com/blog/2019/06/comprehensive-guide-text-summarization-using-deep-learning-python/) to cover all the concepts which is required to build our own summarizer"
   ]
  },
  {
   "cell_type": "markdown",
   "metadata": {
    "colab_type": "text",
    "id": "F5dSoP8lGMZi"
   },
   "source": [
    "# Understanding the Problem Statement\n",
    "\n",
    "Customer reviews can often be long and descriptive. Analyzing these reviews manually, as you can imagine, is really time-consuming. This is where the brilliance of Natural Language Processing can be applied to generate a summary for long reviews.\n",
    "\n",
    "We will be working on a really cool dataset. Our objective here is to generate a summary for the Amazon Fine Food reviews using the abstraction-based approach we learned about above. You can download the dataset from[ here ](https://www.kaggle.com/snap/amazon-fine-food-reviews)\n",
    "\n",
    "It’s time to fire up our Jupyter notebooks! Let’s dive into the implementation details right away.\n",
    "\n",
    "# Custom Attention Layer\n",
    "\n",
    "Keras does not officially support attention layer. So, we can either implement our own attention layer or use a third-party implementation. We will go with the latter option for this article. You can download the attention layer from [here](https://github.com/thushv89/attention_keras/blob/master/layers/attention.py) and copy it in a different file called attention.py.\n",
    "\n",
    "Let’s import it into our environment:"
   ]
  },
  {
   "cell_type": "code",
   "execution_count": 1,
   "metadata": {
    "colab": {},
    "colab_type": "code",
    "id": "Fi64aA0FFxcS"
   },
   "outputs": [],
   "source": [
    "from attention_keras.src.layers.attention import AttentionLayer"
   ]
  },
  {
   "cell_type": "markdown",
   "metadata": {
    "colab_type": "text",
    "id": "JUValOzcHtEK"
   },
   "source": [
    "# Import the Libraries"
   ]
  },
  {
   "cell_type": "code",
   "execution_count": 2,
   "metadata": {
    "_cell_guid": "b1076dfc-b9ad-4769-8c92-a6c4dae69d19",
    "_uuid": "8f2839f25d086af736a60e9eeb907d3b93b6e0e5",
    "colab": {},
    "colab_type": "code",
    "id": "_Jpu8qLEFxcY",
    "outputId": "95968e01-faac-4911-c802-9c008a4e62cf"
   },
   "outputs": [],
   "source": [
    "import numpy as np\n",
    "import pandas as pd\n",
    "import re\n",
    "from bs4 import BeautifulSoup\n",
    "from keras.preprocessing.text import Tokenizer \n",
    "from keras.preprocessing.sequence import pad_sequences\n",
    "from nltk.corpus import stopwords\n",
    "from tensorflow.keras.layers import Input, LSTM, Embedding, Dense, Concatenate, TimeDistributed\n",
    "from tensorflow.keras.models import Model\n",
    "from tensorflow.keras.callbacks import EarlyStopping\n",
    "import warnings\n",
    "pd.set_option(\"display.max_colwidth\", 200)\n",
    "warnings.filterwarnings(\"ignore\")"
   ]
  },
  {
   "cell_type": "markdown",
   "metadata": {
    "colab_type": "text",
    "id": "UVakjZ3oICgx"
   },
   "source": [
    "# Read the dataset\n",
    "\n",
    "This dataset consists of reviews of fine foods from Amazon. The data spans a period of more than 10 years, including all ~500,000 reviews up to October 2012. These reviews include product and user information, ratings, plain text review, and summary. It also includes reviews from all other Amazon categories.\n",
    "\n",
    "We’ll take a sample of 100,000 reviews to reduce the training time of our model. Feel free to use the entire dataset for training your model if your machine has that kind of computational power."
   ]
  },
  {
   "cell_type": "code",
   "execution_count": 3,
   "metadata": {
    "colab": {},
    "colab_type": "code",
    "id": "wnK5o4Z1Fxcj"
   },
   "outputs": [],
   "source": [
    "data = pd.read_csv(\"news_data/news_summary_more.csv\", nrows=20000)"
   ]
  },
  {
   "cell_type": "markdown",
   "metadata": {
    "colab_type": "text",
    "id": "kGNQKvCaISIn"
   },
   "source": [
    "# Drop Duplicates and NA values"
   ]
  },
  {
   "cell_type": "code",
   "execution_count": 4,
   "metadata": {
    "colab": {},
    "colab_type": "code",
    "id": "Cjul88oOFxcr"
   },
   "outputs": [],
   "source": [
    "data.drop_duplicates(subset=['text'],inplace=True)#dropping duplicates\n",
    "data.dropna(axis=0,inplace=True)#dropping na"
   ]
  },
  {
   "cell_type": "markdown",
   "metadata": {
    "colab_type": "text",
    "id": "qi0xD6BkIWAm"
   },
   "source": [
    "# Information about dataset\n",
    "\n",
    "Let us look at datatypes and shape of the dataset"
   ]
  },
  {
   "cell_type": "code",
   "execution_count": 5,
   "metadata": {
    "colab": {},
    "colab_type": "code",
    "id": "__fy-JxTFxc9",
    "outputId": "d42c6e36-bbc8-43c2-de0e-d3effe3e8c4c"
   },
   "outputs": [
    {
     "name": "stdout",
     "output_type": "stream",
     "text": [
      "<class 'pandas.core.frame.DataFrame'>\n",
      "Int64Index: 20000 entries, 0 to 19999\n",
      "Data columns (total 2 columns):\n",
      " #   Column     Non-Null Count  Dtype \n",
      "---  ------     --------------  ----- \n",
      " 0   headlines  20000 non-null  object\n",
      " 1   text       20000 non-null  object\n",
      "dtypes: object(2)\n",
      "memory usage: 468.8+ KB\n"
     ]
    }
   ],
   "source": [
    "data.info()"
   ]
  },
  {
   "cell_type": "markdown",
   "metadata": {
    "colab_type": "text",
    "id": "r0xLYACiFxdJ"
   },
   "source": [
    "# Preprocessing\n",
    "\n",
    "Performing basic preprocessing steps is very important before we get to the model building part. Using messy and uncleaned text data is a potentially disastrous move. So in this step, we will drop all the unwanted symbols, characters, etc. from the text that do not affect the objective of our problem.\n",
    "\n",
    "Here is the dictionary that we will use for expanding the contractions:"
   ]
  },
  {
   "cell_type": "code",
   "execution_count": 6,
   "metadata": {
    "colab": {},
    "colab_type": "code",
    "id": "0s6IY-x2FxdL"
   },
   "outputs": [],
   "source": [
    "contraction_mapping = {\"ain't\": \"is not\", \"aren't\": \"are not\",\"can't\": \"cannot\", \"'cause\": \"because\", \"could've\": \"could have\", \"couldn't\": \"could not\",\n",
    "                           \"didn't\": \"did not\",  \"doesn't\": \"does not\", \"don't\": \"do not\", \"hadn't\": \"had not\", \"hasn't\": \"has not\", \"haven't\": \"have not\",\n",
    "                           \"he'd\": \"he would\",\"he'll\": \"he will\", \"he's\": \"he is\", \"how'd\": \"how did\", \"how'd'y\": \"how do you\", \"how'll\": \"how will\", \"how's\": \"how is\",\n",
    "                           \"I'd\": \"I would\", \"I'd've\": \"I would have\", \"I'll\": \"I will\", \"I'll've\": \"I will have\",\"I'm\": \"I am\", \"I've\": \"I have\", \"i'd\": \"i would\",\n",
    "                           \"i'd've\": \"i would have\", \"i'll\": \"i will\",  \"i'll've\": \"i will have\",\"i'm\": \"i am\", \"i've\": \"i have\", \"isn't\": \"is not\", \"it'd\": \"it would\",\n",
    "                           \"it'd've\": \"it would have\", \"it'll\": \"it will\", \"it'll've\": \"it will have\",\"it's\": \"it is\", \"let's\": \"let us\", \"ma'am\": \"madam\",\n",
    "                           \"mayn't\": \"may not\", \"might've\": \"might have\",\"mightn't\": \"might not\",\"mightn't've\": \"might not have\", \"must've\": \"must have\",\n",
    "                           \"mustn't\": \"must not\", \"mustn't've\": \"must not have\", \"needn't\": \"need not\", \"needn't've\": \"need not have\",\"o'clock\": \"of the clock\",\n",
    "                           \"oughtn't\": \"ought not\", \"oughtn't've\": \"ought not have\", \"shan't\": \"shall not\", \"sha'n't\": \"shall not\", \"shan't've\": \"shall not have\",\n",
    "                           \"she'd\": \"she would\", \"she'd've\": \"she would have\", \"she'll\": \"she will\", \"she'll've\": \"she will have\", \"she's\": \"she is\",\n",
    "                           \"should've\": \"should have\", \"shouldn't\": \"should not\", \"shouldn't've\": \"should not have\", \"so've\": \"so have\",\"so's\": \"so as\",\n",
    "                           \"this's\": \"this is\",\"that'd\": \"that would\", \"that'd've\": \"that would have\", \"that's\": \"that is\", \"there'd\": \"there would\",\n",
    "                           \"there'd've\": \"there would have\", \"there's\": \"there is\", \"here's\": \"here is\",\"they'd\": \"they would\", \"they'd've\": \"they would have\",\n",
    "                           \"they'll\": \"they will\", \"they'll've\": \"they will have\", \"they're\": \"they are\", \"they've\": \"they have\", \"to've\": \"to have\",\n",
    "                           \"wasn't\": \"was not\", \"we'd\": \"we would\", \"we'd've\": \"we would have\", \"we'll\": \"we will\", \"we'll've\": \"we will have\", \"we're\": \"we are\",\n",
    "                           \"we've\": \"we have\", \"weren't\": \"were not\", \"what'll\": \"what will\", \"what'll've\": \"what will have\", \"what're\": \"what are\",\n",
    "                           \"what's\": \"what is\", \"what've\": \"what have\", \"when's\": \"when is\", \"when've\": \"when have\", \"where'd\": \"where did\", \"where's\": \"where is\",\n",
    "                           \"where've\": \"where have\", \"who'll\": \"who will\", \"who'll've\": \"who will have\", \"who's\": \"who is\", \"who've\": \"who have\",\n",
    "                           \"why's\": \"why is\", \"why've\": \"why have\", \"will've\": \"will have\", \"won't\": \"will not\", \"won't've\": \"will not have\",\n",
    "                           \"would've\": \"would have\", \"wouldn't\": \"would not\", \"wouldn't've\": \"would not have\", \"y'all\": \"you all\",\n",
    "                           \"y'all'd\": \"you all would\",\"y'all'd've\": \"you all would have\",\"y'all're\": \"you all are\",\"y'all've\": \"you all have\",\n",
    "                           \"you'd\": \"you would\", \"you'd've\": \"you would have\", \"you'll\": \"you will\", \"you'll've\": \"you will have\",\n",
    "                           \"you're\": \"you are\", \"you've\": \"you have\"}"
   ]
  },
  {
   "cell_type": "markdown",
   "metadata": {
    "colab_type": "text",
    "id": "2JFRXFHmI7Mj"
   },
   "source": [
    "We will perform the below preprocessing tasks for our data:\n",
    "\n",
    "1.Convert everything to lowercase - to do\n",
    "\n",
    "2.Remove HTML tags - not to do\n",
    "\n",
    "3.Contraction mapping - to do\n",
    "\n",
    "4.Remove (‘s) -  not to do\n",
    "\n",
    "5.Remove any text inside the parenthesis ( ) - to do\n",
    "\n",
    "6.Eliminate punctuations and special characters - to do\n",
    "\n",
    "7.Remove stopwords - to do\n",
    "\n",
    "8.Remove short words - to do\n",
    "\n",
    "Let’s define the function:"
   ]
  },
  {
   "cell_type": "code",
   "execution_count": 7,
   "metadata": {
    "colab": {},
    "colab_type": "code",
    "id": "XZr-u3OEFxdT"
   },
   "outputs": [],
   "source": [
    "stop_words = set(stopwords.words('english')) \n",
    "\n",
    "def text_cleaner(text,num):\n",
    "    newString = text\n",
    "    newString = re.sub(r'\\([^)]*\\)', '', newString)\n",
    "    newString = re.sub('\"','', newString)\n",
    "    newString = ' '.join([contraction_mapping[t] if t in contraction_mapping else t for t in newString.split(\" \")])    \n",
    "    newString = re.sub(r\"'s\\b\",\"\",newString)\n",
    "    newString = re.sub(\"[^a-zA-Z]\", \" \", newString) \n",
    "    newString = re.sub('[m]{2,}', 'mm', newString)\n",
    "    if(num==0):\n",
    "        tokens = [w for w in newString.split() if not w in stop_words]\n",
    "    else:\n",
    "        tokens=newString.split()\n",
    "    long_words=[]\n",
    "    for i in tokens:\n",
    "        if len(i)>1:                                                 #removing short word\n",
    "            long_words.append(i)   \n",
    "    return (\" \".join(long_words)).strip()"
   ]
  },
  {
   "cell_type": "code",
   "execution_count": 8,
   "metadata": {
    "colab": {},
    "colab_type": "code",
    "id": "A2QAeCHWFxdY"
   },
   "outputs": [],
   "source": [
    "#call the function\n",
    "cleaned_text = []\n",
    "for t in data['text']:\n",
    "    cleaned_text.append(text_cleaner(t,0)) "
   ]
  },
  {
   "cell_type": "markdown",
   "metadata": {
    "colab_type": "text",
    "id": "snRZY8wjLao2"
   },
   "source": [
    "Let us look at the first five preprocessed reviews"
   ]
  },
  {
   "cell_type": "code",
   "execution_count": 9,
   "metadata": {
    "colab": {},
    "colab_type": "code",
    "id": "NCAIkhWbFxdh",
    "outputId": "c2da1a36-4488-4e32-ef9e-fcfe496e374d"
   },
   "outputs": [
    {
     "data": {
      "text/plain": [
       "['Saurav Kant alumnus upGrad IIIT PG Program Machine learning Artificial Intelligence Sr Systems Engineer Infosys almost years work experience The program upGrad degree career support helped transition Data Scientist Tech Mahindra salary hike upGrad Online Power Learning powered lakh careers',\n",
       " 'Kunal Shah credit card bill payment platform CRED gave users chance win free food Swiggy one year Pranav Kaushik Delhi techie bagged reward spending CRED coins Users get one CRED coin per rupee bill paid used avail rewards brands like Ixigo BookMyShow UberEats Cult Fit',\n",
       " 'New Zealand defeated India wickets fourth ODI Hamilton Thursday win first match five match ODI series India lost international match Rohit Sharma captaincy consecutive victories dating back March The match witnessed India getting seventh lowest total ODI cricket history',\n",
       " 'With Aegon Life iTerm Insurance plan customers enjoy tax benefits premiums paid save taxes The plan provides life cover age years Also customers options insure Critical Illnesses Disability Accidental Death Benefit Rider life cover age years',\n",
       " 'Speaking sexual harassment allegations Rajkumar Hirani Sonam Kapoor said known Hirani many years What true MeToo movement get derailed In MeToo movement always believe woman But case need reserve judgment added Hirani accused assistant worked Sanju']"
      ]
     },
     "execution_count": 9,
     "metadata": {},
     "output_type": "execute_result"
    }
   ],
   "source": [
    "cleaned_text[:5]  "
   ]
  },
  {
   "cell_type": "code",
   "execution_count": 10,
   "metadata": {
    "colab": {},
    "colab_type": "code",
    "id": "GsRXocxoFxd-"
   },
   "outputs": [],
   "source": [
    "#call the function\n",
    "cleaned_summary = []\n",
    "for t in data['headlines']:\n",
    "    cleaned_summary.append(text_cleaner(t,1))"
   ]
  },
  {
   "cell_type": "markdown",
   "metadata": {
    "colab_type": "text",
    "id": "oZeD0gs6Lnb-"
   },
   "source": [
    "Let us look at the first 10 preprocessed summaries"
   ]
  },
  {
   "cell_type": "code",
   "execution_count": 11,
   "metadata": {
    "colab": {},
    "colab_type": "code",
    "id": "jQJdZcAzFxee",
    "outputId": "a1fbe683-c03f-4afb-addf-e075021c121b"
   },
   "outputs": [
    {
     "data": {
      "text/plain": [
       "['upGrad learner switches to career in ML Al with salary hike',\n",
       " 'Delhi techie wins free food from Swiggy for one year on CRED',\n",
       " 'New Zealand end Rohit Sharma led India match winning streak',\n",
       " 'Aegon life iTerm insurance plan helps customers save tax',\n",
       " 'Have known Hirani for yrs what if MeToo claims are not true Sonam',\n",
       " 'Rahat Fateh Ali Khan denies getting notice for smuggling currency',\n",
       " 'India get all out for their lowest ODI total in New Zealand',\n",
       " 'Govt directs Alok Verma to join work day before his retirement',\n",
       " 'Called PM Modi sir times to satisfy his ego Andhra CM',\n",
       " 'Cong wins Ramgarh bypoll in Rajasthan takes total to seats']"
      ]
     },
     "execution_count": 11,
     "metadata": {},
     "output_type": "execute_result"
    }
   ],
   "source": [
    "cleaned_summary[:10]"
   ]
  },
  {
   "cell_type": "code",
   "execution_count": 12,
   "metadata": {
    "colab": {},
    "colab_type": "code",
    "id": "L1zLpnqsFxey"
   },
   "outputs": [],
   "source": [
    "data['cleaned_text']=cleaned_text\n",
    "data['cleaned_summary']=cleaned_summary"
   ]
  },
  {
   "cell_type": "markdown",
   "metadata": {
    "colab_type": "text",
    "id": "KT_D2cLiLy77"
   },
   "source": [
    "# Drop empty rows"
   ]
  },
  {
   "cell_type": "code",
   "execution_count": 13,
   "metadata": {
    "colab": {},
    "colab_type": "code",
    "id": "sYK390unFxfA"
   },
   "outputs": [],
   "source": [
    "data.replace('', np.nan, inplace=True)\n",
    "data.dropna(axis=0,inplace=True)"
   ]
  },
  {
   "cell_type": "markdown",
   "metadata": {
    "colab_type": "text",
    "id": "Vm8Fk2TCL7Sp"
   },
   "source": [
    "# Understanding the distribution of the sequences\n",
    "\n",
    "Here, we will analyze the length of the reviews and the summary to get an overall idea about the distribution of length of the text. This will help us fix the maximum length of the sequence:"
   ]
  },
  {
   "cell_type": "code",
   "execution_count": 14,
   "metadata": {
    "colab": {},
    "colab_type": "code",
    "id": "MdF76AHHFxgw",
    "outputId": "e3bbe165-4235-482f-bfd4-36a3f1d95290"
   },
   "outputs": [
    {
     "data": {
      "image/png": "[encoded data removed]",
      "text/plain": [
       "<Figure size 432x288 with 2 Axes>"
      ]
     },
     "metadata": {
      "needs_background": "light"
     },
     "output_type": "display_data"
    }
   ],
   "source": [
    "import matplotlib.pyplot as plt\n",
    "\n",
    "text_word_count = []\n",
    "summary_word_count = []\n",
    "\n",
    "# populate the lists with sentence lengths\n",
    "for i in data['cleaned_text']:\n",
    "      text_word_count.append(len(i.split()))\n",
    "\n",
    "for i in data['cleaned_summary']:\n",
    "      summary_word_count.append(len(i.split()))\n",
    "\n",
    "length_df = pd.DataFrame({'text':text_word_count, 'summary':summary_word_count})\n",
    "\n",
    "length_df.hist(bins = 30)\n",
    "plt.show()"
   ]
  },
  {
   "cell_type": "markdown",
   "metadata": {
    "colab_type": "text",
    "id": "QwdSGIhGMEbz"
   },
   "source": [
    "Interesting. We can fix the maximum length of the summary to 12 since that seems to be the majority summary length.\n",
    "\n",
    "Let us understand the proportion of the length of summaries below 12"
   ]
  },
  {
   "cell_type": "code",
   "execution_count": 15,
   "metadata": {
    "colab": {},
    "colab_type": "code",
    "id": "7JRjwdIOFxg3",
    "outputId": "f968be82-c539-471d-ce23-16f18b059ea0"
   },
   "outputs": [
    {
     "name": "stdout",
     "output_type": "stream",
     "text": [
      "0.9695\n"
     ]
    }
   ],
   "source": [
    "cnt=0\n",
    "for i in data['cleaned_summary']:\n",
    "    if(len(i.split())<=12):\n",
    "        cnt=cnt+1\n",
    "print(cnt/len(data['cleaned_summary']))"
   ]
  },
  {
   "cell_type": "markdown",
   "metadata": {
    "colab_type": "text",
    "id": "yYB4Ga9KMjEu"
   },
   "source": [
    "We observe that 95% of the summaries have length below 8. So, we can fix maximum length of summary to 12.\n",
    "\n",
    "Let us fix the maximum length of review to 45"
   ]
  },
  {
   "cell_type": "code",
   "execution_count": 16,
   "metadata": {
    "colab": {},
    "colab_type": "code",
    "id": "ZKD5VOWqFxhC"
   },
   "outputs": [],
   "source": [
    "max_text_len=45\n",
    "max_summary_len=12"
   ]
  },
  {
   "cell_type": "markdown",
   "metadata": {
    "colab_type": "text",
    "id": "E6d48E-8M4VO"
   },
   "source": [
    "Let us select the reviews and summaries whose length falls below or equal to **max_text_len** and **max_summary_len**"
   ]
  },
  {
   "cell_type": "code",
   "execution_count": 17,
   "metadata": {
    "colab": {},
    "colab_type": "code",
    "id": "yY0tEJP0FxhI"
   },
   "outputs": [],
   "source": [
    "cleaned_text =np.array(data['cleaned_text'])\n",
    "cleaned_summary=np.array(data['cleaned_summary'])\n",
    "\n",
    "short_text=[]\n",
    "short_summary=[]\n",
    "\n",
    "for i in range(len(cleaned_text)):\n",
    "    if(len(cleaned_summary[i].split())<=max_summary_len and len(cleaned_text[i].split())<=max_text_len):\n",
    "        short_text.append(cleaned_text[i])\n",
    "        short_summary.append(cleaned_summary[i])\n",
    "        \n",
    "df=pd.DataFrame({'text':short_text,'headlines':short_summary})"
   ]
  },
  {
   "cell_type": "markdown",
   "metadata": {
    "colab_type": "text",
    "id": "tR1uh8xSNUma"
   },
   "source": [
    "Remember to add the **START** and **END** special tokens at the beginning and end of the summary. Here, I have chosen **sostok** and **eostok** as START and END tokens\n",
    "\n",
    "**Note:** Be sure that the chosen special tokens never appear in the summary"
   ]
  },
  {
   "cell_type": "code",
   "execution_count": 18,
   "metadata": {
    "colab": {},
    "colab_type": "code",
    "id": "EwLUH78CFxhg"
   },
   "outputs": [],
   "source": [
    "df['headlines'] = df['headlines'].apply(lambda x : 'sostok '+ x + ' eostok')"
   ]
  },
  {
   "cell_type": "markdown",
   "metadata": {
    "colab_type": "text",
    "id": "1GlcX4RFOh13"
   },
   "source": [
    "We are getting closer to the model building part. Before that, we need to split our dataset into a training and validation set. We’ll use 90% of the dataset as the training data and evaluate the performance on the remaining 10% (holdout set):"
   ]
  },
  {
   "cell_type": "code",
   "execution_count": 19,
   "metadata": {
    "colab": {},
    "colab_type": "code",
    "id": "RakakKHcFxhl"
   },
   "outputs": [],
   "source": [
    "from sklearn.model_selection import train_test_split\n",
    "x_tr,x_val,y_tr,y_val=train_test_split(np.array(df['text']),np.array(df['headlines']),test_size=0.1,random_state=0,shuffle=True) "
   ]
  },
  {
   "cell_type": "markdown",
   "metadata": {
    "colab_type": "text",
    "id": "Vq1mqyOHOtIl"
   },
   "source": [
    "# Preparing the Tokenizer\n",
    "\n",
    "A tokenizer builds the vocabulary and converts a word sequence to an integer sequence. Go ahead and build tokenizers for text and summary:\n",
    "\n",
    "# Text Tokenizer"
   ]
  },
  {
   "cell_type": "code",
   "execution_count": 20,
   "metadata": {
    "colab": {},
    "colab_type": "code",
    "id": "oRHTgX6hFxhq"
   },
   "outputs": [],
   "source": [
    "from keras.preprocessing.text import Tokenizer \n",
    "from keras.preprocessing.sequence import pad_sequences\n",
    "\n",
    "#prepare a tokenizer for reviews on training data\n",
    "x_tokenizer = Tokenizer() \n",
    "x_tokenizer.fit_on_texts(list(x_tr))"
   ]
  },
  {
   "cell_type": "markdown",
   "metadata": {
    "colab_type": "text",
    "id": "RzvLwYL_PDcx"
   },
   "source": [
    "# Rarewords and its Coverage\n",
    "\n",
    "Let us look at the proportion rare words and its total coverage in the entire text\n",
    "\n",
    "Here, I am defining the threshold to be 4 which means word whose count is below 4 is considered as a rare word"
   ]
  },
  {
   "cell_type": "code",
   "execution_count": 21,
   "metadata": {
    "colab": {},
    "colab_type": "code",
    "id": "y8KronV2Fxhx",
    "outputId": "d2eb2f27-fbbc-4e61-9556-3c3ff5e4327b"
   },
   "outputs": [
    {
     "name": "stdout",
     "output_type": "stream",
     "text": [
      "% of rare words in vocabulary: 60.35119622662955\n",
      "Total Coverage of rare words: 5.1406312690143645\n"
     ]
    }
   ],
   "source": [
    "thresh=4\n",
    "\n",
    "cnt=0\n",
    "tot_cnt=0\n",
    "freq=0\n",
    "tot_freq=0\n",
    "\n",
    "for key,value in x_tokenizer.word_counts.items():\n",
    "    tot_cnt=tot_cnt+1\n",
    "    tot_freq=tot_freq+value\n",
    "    if(value<thresh):\n",
    "        cnt=cnt+1\n",
    "        freq=freq+value\n",
    "    \n",
    "print(\"% of rare words in vocabulary:\",(cnt/tot_cnt)*100)\n",
    "print(\"Total Coverage of rare words:\",(freq/tot_freq)*100)"
   ]
  },
  {
   "cell_type": "markdown",
   "metadata": {
    "colab_type": "text",
    "id": "So-J-5kzQIeO"
   },
   "source": [
    "**Remember**:\n",
    "\n",
    "\n",
    "* **tot_cnt** gives the size of vocabulary (which means every unique words in the text)\n",
    " \n",
    "*   **cnt** gives me the no. of rare words whose count falls below threshold\n",
    "\n",
    "*  **tot_cnt - cnt** gives me the top most common words \n",
    "\n",
    "Let us define the tokenizer with top most common words for reviews."
   ]
  },
  {
   "cell_type": "code",
   "execution_count": 22,
   "metadata": {
    "colab": {},
    "colab_type": "code",
    "id": "J2giEsF3Fxh3"
   },
   "outputs": [],
   "source": [
    "#prepare a tokenizer for reviews on training data\n",
    "x_tokenizer = Tokenizer(num_words=tot_cnt-cnt) \n",
    "x_tokenizer.fit_on_texts(list(x_tr))\n",
    "\n",
    "#convert text sequences into integer sequences\n",
    "x_tr_seq    =   x_tokenizer.texts_to_sequences(x_tr) \n",
    "x_val_seq   =   x_tokenizer.texts_to_sequences(x_val)\n",
    "\n",
    "#padding zero upto maximum length\n",
    "x_tr    =   pad_sequences(x_tr_seq,  maxlen=max_text_len, padding='post')\n",
    "x_val   =   pad_sequences(x_val_seq, maxlen=max_text_len, padding='post')\n",
    "\n",
    "#size of vocabulary ( +1 for padding token)\n",
    "x_voc   =  x_tokenizer.num_words + 1"
   ]
  },
  {
   "cell_type": "code",
   "execution_count": 23,
   "metadata": {
    "colab": {},
    "colab_type": "code",
    "id": "DCbGMsm4FxiA",
    "outputId": "2d9165f0-e542-4114-91f3-e070d483fce9"
   },
   "outputs": [
    {
     "data": {
      "text/plain": [
       "13955"
      ]
     },
     "execution_count": 23,
     "metadata": {},
     "output_type": "execute_result"
    }
   ],
   "source": [
    "x_voc"
   ]
  },
  {
   "cell_type": "markdown",
   "metadata": {
    "colab_type": "text",
    "id": "uQfKP3sqRxi9"
   },
   "source": [
    "# Summary Tokenizer"
   ]
  },
  {
   "cell_type": "code",
   "execution_count": 24,
   "metadata": {
    "colab": {},
    "colab_type": "code",
    "id": "eRHqyBkBFxiJ"
   },
   "outputs": [],
   "source": [
    "#prepare a tokenizer for reviews on training data\n",
    "y_tokenizer = Tokenizer()   \n",
    "y_tokenizer.fit_on_texts(list(y_tr))"
   ]
  },
  {
   "cell_type": "markdown",
   "metadata": {
    "colab_type": "text",
    "id": "KInA6O6ZSkJz"
   },
   "source": [
    "# Rarewords and its Coverage\n",
    "\n",
    "Let us look at the proportion rare words and its total coverage in the entire summary\n",
    "\n",
    "Here, I am defining the threshold to be 6 which means word whose count is below 6 is considered as a rare word"
   ]
  },
  {
   "cell_type": "code",
   "execution_count": 25,
   "metadata": {
    "colab": {},
    "colab_type": "code",
    "id": "yzE5OiRLFxiM",
    "outputId": "7f7a4f89-b088-4847-8172-09e5a2383d0e"
   },
   "outputs": [
    {
     "name": "stdout",
     "output_type": "stream",
     "text": [
      "% of rare words in vocabulary: 74.52963167248882\n",
      "Total Coverage of rare words: 11.200942149253137\n"
     ]
    }
   ],
   "source": [
    "thresh=6\n",
    "\n",
    "cnt=0\n",
    "tot_cnt=0\n",
    "freq=0\n",
    "tot_freq=0\n",
    "\n",
    "for key,value in y_tokenizer.word_counts.items():\n",
    "    tot_cnt=tot_cnt+1\n",
    "    tot_freq=tot_freq+value\n",
    "    if(value<thresh):\n",
    "        cnt=cnt+1\n",
    "        freq=freq+value\n",
    "    \n",
    "print(\"% of rare words in vocabulary:\",(cnt/tot_cnt)*100)\n",
    "print(\"Total Coverage of rare words:\",(freq/tot_freq)*100)"
   ]
  },
  {
   "cell_type": "markdown",
   "metadata": {
    "colab_type": "text",
    "id": "0PBhzKuRSw_9"
   },
   "source": [
    "Let us define the tokenizer with top most common words for summary."
   ]
  },
  {
   "cell_type": "code",
   "execution_count": 26,
   "metadata": {
    "colab": {},
    "colab_type": "code",
    "id": "-fswLvIgFxiR"
   },
   "outputs": [],
   "source": [
    "#prepare a tokenizer for reviews on training data\n",
    "y_tokenizer = Tokenizer(num_words=tot_cnt-cnt) \n",
    "y_tokenizer.fit_on_texts(list(y_tr))\n",
    "\n",
    "#convert text sequences into integer sequences\n",
    "y_tr_seq    =   y_tokenizer.texts_to_sequences(y_tr) \n",
    "y_val_seq   =   y_tokenizer.texts_to_sequences(y_val) \n",
    "\n",
    "#padding zero upto maximum length\n",
    "y_tr    =   pad_sequences(y_tr_seq, maxlen=max_summary_len, padding='post')\n",
    "y_val   =   pad_sequences(y_val_seq, maxlen=max_summary_len, padding='post')\n",
    "\n",
    "#size of vocabulary\n",
    "y_voc  =   y_tokenizer.num_words +1"
   ]
  },
  {
   "cell_type": "markdown",
   "metadata": {
    "colab_type": "text",
    "id": "qqwDUT5oTFmn"
   },
   "source": [
    "Let us check whether word count of start token is equal to length of the training data"
   ]
  },
  {
   "cell_type": "code",
   "execution_count": 27,
   "metadata": {
    "colab": {},
    "colab_type": "code",
    "id": "pR8IX9FRFxiY",
    "outputId": "b116cdbd-42c4-4ede-9f6d-46284115393e"
   },
   "outputs": [
    {
     "data": {
      "text/plain": [
       "(17273, 17273)"
      ]
     },
     "execution_count": 27,
     "metadata": {},
     "output_type": "execute_result"
    }
   ],
   "source": [
    "y_tokenizer.word_counts['sostok'],len(y_tr)   "
   ]
  },
  {
   "cell_type": "markdown",
   "metadata": {
    "colab_type": "text",
    "id": "LVFhFVguTTtw"
   },
   "source": [
    "Here, I am deleting the rows that contain only **START** and **END** tokens"
   ]
  },
  {
   "cell_type": "code",
   "execution_count": 28,
   "metadata": {
    "colab": {},
    "colab_type": "code",
    "id": "kZ-vW82sFxih"
   },
   "outputs": [],
   "source": [
    "ind=[]\n",
    "for i in range(len(y_tr)):\n",
    "    cnt=0\n",
    "    for j in y_tr[i]:\n",
    "        if j!=0:\n",
    "            cnt=cnt+1\n",
    "    if(cnt==2):\n",
    "        ind.append(i)\n",
    "\n",
    "y_tr=np.delete(y_tr,ind, axis=0)\n",
    "x_tr=np.delete(x_tr,ind, axis=0)"
   ]
  },
  {
   "cell_type": "code",
   "execution_count": 29,
   "metadata": {
    "colab": {},
    "colab_type": "code",
    "id": "cx5NISuMFxik"
   },
   "outputs": [],
   "source": [
    "ind=[]\n",
    "for i in range(len(y_val)):\n",
    "    cnt=0\n",
    "    for j in y_val[i]:\n",
    "        if j!=0:\n",
    "            cnt=cnt+1\n",
    "    if(cnt==2):\n",
    "        ind.append(i)\n",
    "\n",
    "y_val=np.delete(y_val,ind, axis=0)\n",
    "x_val=np.delete(x_val,ind, axis=0)"
   ]
  },
  {
   "cell_type": "markdown",
   "metadata": {
    "colab_type": "text",
    "id": "wOtlDcthFxip"
   },
   "source": [
    "# Model building\n",
    "\n",
    "We are finally at the model building part. But before we do that, we need to familiarize ourselves with a few terms which are required prior to building the model.\n",
    "\n",
    "**Return Sequences = True**: When the return sequences parameter is set to True, LSTM produces the hidden state and cell state for every timestep\n",
    "\n",
    "**Return State = True**: When return state = True, LSTM produces the hidden state and cell state of the last timestep only\n",
    "\n",
    "**Initial State**: This is used to initialize the internal states of the LSTM for the first timestep\n",
    "\n",
    "**Stacked LSTM**: Stacked LSTM has multiple layers of LSTM stacked on top of each other. \n",
    "This leads to a better representation of the sequence. I encourage you to experiment with the multiple layers of the LSTM stacked on top of each other (it’s a great way to learn this)\n",
    "\n",
    "Here, we are building a 3 stacked LSTM for the encoder:"
   ]
  },
  {
   "cell_type": "code",
   "execution_count": 30,
   "metadata": {
    "colab": {},
    "colab_type": "code",
    "id": "zXef38nBFxir",
    "outputId": "7ae99521-46f8-4c6f-9cba-4979deffeee8"
   },
   "outputs": [
    {
     "name": "stdout",
     "output_type": "stream",
     "text": [
      "Model: \"functional_1\"\n",
      "__________________________________________________________________________________________________\n",
      "Layer (type)                    Output Shape         Param #     Connected to                     \n",
      "==================================================================================================\n",
      "input_1 (InputLayer)            [(None, 45)]         0                                            \n",
      "__________________________________________________________________________________________________\n",
      "embedding (Embedding)           (None, 45, 100)      1395500     input_1[0][0]                    \n",
      "__________________________________________________________________________________________________\n",
      "lstm (LSTM)                     [(None, 45, 300), (N 481200      embedding[0][0]                  \n",
      "__________________________________________________________________________________________________\n",
      "input_2 (InputLayer)            [(None, None)]       0                                            \n",
      "__________________________________________________________________________________________________\n",
      "lstm_1 (LSTM)                   [(None, 45, 300), (N 721200      lstm[0][0]                       \n",
      "__________________________________________________________________________________________________\n",
      "embedding_1 (Embedding)         (None, None, 100)    415700      input_2[0][0]                    \n",
      "__________________________________________________________________________________________________\n",
      "lstm_2 (LSTM)                   [(None, 45, 300), (N 721200      lstm_1[0][0]                     \n",
      "__________________________________________________________________________________________________\n",
      "lstm_3 (LSTM)                   [(None, None, 300),  481200      embedding_1[0][0]                \n",
      "                                                                 lstm_2[0][1]                     \n",
      "                                                                 lstm_2[0][2]                     \n",
      "__________________________________________________________________________________________________\n",
      "attention_layer (AttentionLayer ((None, None, 300),  180300      lstm_2[0][0]                     \n",
      "                                                                 lstm_3[0][0]                     \n",
      "__________________________________________________________________________________________________\n",
      "concat_layer (Concatenate)      (None, None, 600)    0           lstm_3[0][0]                     \n",
      "                                                                 attention_layer[0][0]            \n",
      "__________________________________________________________________________________________________\n",
      "time_distributed (TimeDistribut (None, None, 4157)   2498357     concat_layer[0][0]               \n",
      "==================================================================================================\n",
      "Total params: 6,894,657\n",
      "Trainable params: 6,894,657\n",
      "Non-trainable params: 0\n",
      "__________________________________________________________________________________________________\n"
     ]
    }
   ],
   "source": [
    "from keras import backend as K \n",
    "K.clear_session()\n",
    "\n",
    "latent_dim = 300\n",
    "embedding_dim=100\n",
    "\n",
    "# Encoder\n",
    "encoder_inputs = Input(shape=(max_text_len,))\n",
    "\n",
    "#embedding layer\n",
    "enc_emb =  Embedding(x_voc, embedding_dim,trainable=True)(encoder_inputs)\n",
    "\n",
    "#encoder lstm 1\n",
    "encoder_lstm1 = LSTM(latent_dim,return_sequences=True,return_state=True,dropout=0.4,recurrent_dropout=0.4)\n",
    "encoder_output1, state_h1, state_c1 = encoder_lstm1(enc_emb)\n",
    "\n",
    "#encoder lstm 2\n",
    "encoder_lstm2 = LSTM(latent_dim,return_sequences=True,return_state=True,dropout=0.4,recurrent_dropout=0.4)\n",
    "encoder_output2, state_h2, state_c2 = encoder_lstm2(encoder_output1)\n",
    "\n",
    "#encoder lstm 3\n",
    "encoder_lstm3=LSTM(latent_dim, return_state=True, return_sequences=True,dropout=0.4,recurrent_dropout=0.4)\n",
    "encoder_outputs, state_h, state_c= encoder_lstm3(encoder_output2)\n",
    "\n",
    "# Set up the decoder, using `encoder_states` as initial state.\n",
    "decoder_inputs = Input(shape=(None,))\n",
    "\n",
    "#embedding layer\n",
    "dec_emb_layer = Embedding(y_voc, embedding_dim,trainable=True)\n",
    "dec_emb = dec_emb_layer(decoder_inputs)\n",
    "\n",
    "decoder_lstm = LSTM(latent_dim, return_sequences=True, return_state=True,dropout=0.4,recurrent_dropout=0.2)\n",
    "decoder_outputs,decoder_fwd_state, decoder_back_state = decoder_lstm(dec_emb,initial_state=[state_h, state_c])\n",
    "\n",
    "# Attention layer\n",
    "attn_layer = AttentionLayer(name='attention_layer')\n",
    "attn_out, attn_states = attn_layer([encoder_outputs, decoder_outputs])\n",
    "\n",
    "# Concat attention input and decoder LSTM output\n",
    "decoder_concat_input = Concatenate(axis=-1, name='concat_layer')([decoder_outputs, attn_out])\n",
    "\n",
    "#dense layer\n",
    "decoder_dense =  TimeDistributed(Dense(y_voc, activation='softmax'))\n",
    "decoder_outputs = decoder_dense(decoder_concat_input)\n",
    "\n",
    "# Define the model \n",
    "model = Model([encoder_inputs, decoder_inputs], decoder_outputs)\n",
    "\n",
    "model.summary() "
   ]
  },
  {
   "cell_type": "markdown",
   "metadata": {
    "colab_type": "text",
    "id": "0ZVlfRuMUcoP"
   },
   "source": [
    "I am using sparse categorical cross-entropy as the loss function since it converts the integer sequence to a one-hot vector on the fly. This overcomes any memory issues."
   ]
  },
  {
   "cell_type": "code",
   "execution_count": 31,
   "metadata": {
    "colab": {},
    "colab_type": "code",
    "id": "Lwfi1Fm8Fxiz"
   },
   "outputs": [],
   "source": [
    "model.compile(optimizer='rmsprop', loss='sparse_categorical_crossentropy')"
   ]
  },
  {
   "cell_type": "markdown",
   "metadata": {
    "colab_type": "text",
    "id": "p0ykDbxfUhyw"
   },
   "source": [
    "Remember the concept of early stopping? It is used to stop training the neural network at the right time by monitoring a user-specified metric. Here, I am monitoring the validation loss (val_loss). Our model will stop training once the validation loss increases:\n"
   ]
  },
  {
   "cell_type": "code",
   "execution_count": 32,
   "metadata": {
    "colab": {},
    "colab_type": "code",
    "id": "s-A3J92MUljB"
   },
   "outputs": [],
   "source": [
    "es = EarlyStopping(monitor='val_loss', mode='min', verbose=1,patience=2)"
   ]
  },
  {
   "cell_type": "markdown",
   "metadata": {
    "colab_type": "text",
    "id": "Mw6CVECaUq5b"
   },
   "source": [
    "We’ll train the model on a batch size of 128 and validate it on the holdout set (which is 10% of our dataset):"
   ]
  },
  {
   "cell_type": "code",
   "execution_count": 33,
   "metadata": {
    "colab": {},
    "colab_type": "code",
    "id": "ETnPzA4OFxi3",
    "outputId": "477e374f-7cf2-4d60-f86e-2c49c9cebedb"
   },
   "outputs": [
    {
     "name": "stdout",
     "output_type": "stream",
     "text": [
      "Epoch 1/50\n",
      "135/135 [==============================] - 191s 1s/step - loss: 5.7031 - val_loss: 5.2590\n",
      "Epoch 2/50\n",
      "135/135 [==============================] - 205s 2s/step - loss: 5.2850 - val_loss: 5.0961\n",
      "Epoch 3/50\n",
      "135/135 [==============================] - 211s 2s/step - loss: 5.0730 - val_loss: 4.8689\n",
      "Epoch 4/50\n",
      "135/135 [==============================] - 213s 2s/step - loss: 4.8566 - val_loss: 4.6936\n",
      "Epoch 5/50\n",
      "135/135 [==============================] - 222s 2s/step - loss: 4.6715 - val_loss: 4.5776\n",
      "Epoch 6/50\n",
      "135/135 [==============================] - 224s 2s/step - loss: 4.5113 - val_loss: 4.4975\n",
      "Epoch 7/50\n",
      "135/135 [==============================] - 218s 2s/step - loss: 4.3728 - val_loss: 4.4366\n",
      "Epoch 8/50\n",
      "135/135 [==============================] - 229s 2s/step - loss: 4.2467 - val_loss: 4.3723\n",
      "Epoch 9/50\n",
      "135/135 [==============================] - 230s 2s/step - loss: 4.1305 - val_loss: 4.3315\n",
      "Epoch 10/50\n",
      "135/135 [==============================] - 228s 2s/step - loss: 4.0187 - val_loss: 4.3055\n",
      "Epoch 11/50\n",
      "135/135 [==============================] - 223s 2s/step - loss: 3.9099 - val_loss: 4.2578\n",
      "Epoch 12/50\n",
      "135/135 [==============================] - 220s 2s/step - loss: 3.8065 - val_loss: 4.2355\n",
      "Epoch 13/50\n",
      "135/135 [==============================] - 219s 2s/step - loss: 3.7083 - val_loss: 4.2146\n",
      "Epoch 14/50\n",
      "135/135 [==============================] - 220s 2s/step - loss: 3.6119 - val_loss: 4.2157\n",
      "Epoch 15/50\n",
      "135/135 [==============================] - 219s 2s/step - loss: 3.5191 - val_loss: 4.2040\n",
      "Epoch 16/50\n",
      "135/135 [==============================] - 224s 2s/step - loss: 3.4323 - val_loss: 4.2008\n",
      "Epoch 17/50\n",
      "135/135 [==============================] - 223s 2s/step - loss: 3.3483 - val_loss: 4.1929\n",
      "Epoch 18/50\n",
      "135/135 [==============================] - 226s 2s/step - loss: 3.2658 - val_loss: 4.1905\n",
      "Epoch 19/50\n",
      "135/135 [==============================] - 225s 2s/step - loss: 3.1834 - val_loss: 4.1811\n",
      "Epoch 20/50\n",
      "135/135 [==============================] - 226s 2s/step - loss: 3.1076 - val_loss: 4.1954\n",
      "Epoch 21/50\n",
      "135/135 [==============================] - 224s 2s/step - loss: 3.0335 - val_loss: 4.1895\n",
      "Epoch 00021: early stopping\n"
     ]
    }
   ],
   "source": [
    "history=model.fit([x_tr,y_tr[:,:-1]], y_tr.reshape(y_tr.shape[0],y_tr.shape[1], 1)[:,1:] ,epochs=50,callbacks=[es],batch_size=128, validation_data=([x_val,y_val[:,:-1]], y_val.reshape(y_val.shape[0],y_val.shape[1], 1)[:,1:]))\n"
   ]
  },
  {
   "cell_type": "markdown",
   "metadata": {
    "colab_type": "text",
    "id": "0ezKYOp2UxG5"
   },
   "source": [
    "# Understanding the Diagnostic plot\n",
    "\n",
    "Now, we will plot a few diagnostic plots to understand the behavior of the model over time:"
   ]
  },
  {
   "cell_type": "code",
   "execution_count": 34,
   "metadata": {
    "colab": {},
    "colab_type": "code",
    "id": "tDTNLAURFxjE",
    "outputId": "e2ea6e44-3931-4014-97a1-03fa2a441228"
   },
   "outputs": [
    {
     "data": {
      "image/png": "[encoded data removed]",
      "text/plain": [
       "<Figure size 432x288 with 1 Axes>"
      ]
     },
     "metadata": {
      "needs_background": "light"
     },
     "output_type": "display_data"
    }
   ],
   "source": [
    "from matplotlib import pyplot\n",
    "pyplot.plot(history.history['loss'], label='train')\n",
    "pyplot.plot(history.history['val_loss'], label='test')\n",
    "pyplot.legend()\n",
    "pyplot.show()"
   ]
  },
  {
   "cell_type": "markdown",
   "metadata": {
    "colab_type": "text",
    "id": "HSyx-HvpUz2o"
   },
   "source": [
    "From the plot, we can infer that validation loss has increased after epoch 17 for 2 successive epochs. Hence, training is stopped at epoch 19.\n",
    "\n",
    "Next, let’s build the dictionary to convert the index to word for target and source vocabulary:"
   ]
  },
  {
   "cell_type": "code",
   "execution_count": 35,
   "metadata": {
    "colab": {},
    "colab_type": "code",
    "id": "sBX0zZnOFxjW"
   },
   "outputs": [],
   "source": [
    "reverse_target_word_index=y_tokenizer.index_word\n",
    "reverse_source_word_index=x_tokenizer.index_word\n",
    "target_word_index=y_tokenizer.word_index"
   ]
  },
  {
   "cell_type": "markdown",
   "metadata": {
    "colab_type": "text",
    "id": "eM_nU_VvFxjq"
   },
   "source": [
    "# Inference\n",
    "\n",
    "Set up the inference for the encoder and decoder:"
   ]
  },
  {
   "cell_type": "code",
   "execution_count": 36,
   "metadata": {
    "colab": {},
    "colab_type": "code",
    "id": "9QkrNV-4Fxjt"
   },
   "outputs": [],
   "source": [
    "# Encode the input sequence to get the feature vector\n",
    "encoder_model = Model(inputs=encoder_inputs,outputs=[encoder_outputs, state_h, state_c])\n",
    "\n",
    "# Decoder setup\n",
    "# Below tensors will hold the states of the previous time step\n",
    "decoder_state_input_h = Input(shape=(latent_dim,))\n",
    "decoder_state_input_c = Input(shape=(latent_dim,))\n",
    "decoder_hidden_state_input = Input(shape=(max_text_len,latent_dim))\n",
    "\n",
    "# Get the embeddings of the decoder sequence\n",
    "dec_emb2= dec_emb_layer(decoder_inputs) \n",
    "# To predict the next word in the sequence, set the initial states to the states from the previous time step\n",
    "decoder_outputs2, state_h2, state_c2 = decoder_lstm(dec_emb2, initial_state=[decoder_state_input_h, decoder_state_input_c])\n",
    "\n",
    "#attention inference\n",
    "attn_out_inf, attn_states_inf = attn_layer([decoder_hidden_state_input, decoder_outputs2])\n",
    "decoder_inf_concat = Concatenate(axis=-1, name='concat')([decoder_outputs2, attn_out_inf])\n",
    "\n",
    "# A dense softmax layer to generate prob dist. over the target vocabulary\n",
    "decoder_outputs2 = decoder_dense(decoder_inf_concat) \n",
    "\n",
    "# Final decoder model\n",
    "decoder_model = Model(\n",
    "    [decoder_inputs] + [decoder_hidden_state_input,decoder_state_input_h, decoder_state_input_c],\n",
    "    [decoder_outputs2] + [state_h2, state_c2])"
   ]
  },
  {
   "cell_type": "markdown",
   "metadata": {
    "colab_type": "text",
    "id": "zOiyk4ToWe74"
   },
   "source": [
    "We are defining a function below which is the implementation of the inference process (which we covered [here](https://www.analyticsvidhya.com/blog/2019/06/comprehensive-guide-text-summarization-using-deep-learning-python/)):"
   ]
  },
  {
   "cell_type": "code",
   "execution_count": 37,
   "metadata": {
    "colab": {},
    "colab_type": "code",
    "id": "6f6TTFnBFxj6"
   },
   "outputs": [],
   "source": [
    "def decode_sequence(input_seq):\n",
    "    # Encode the input as state vectors.\n",
    "    e_out, e_h, e_c = encoder_model.predict(input_seq)\n",
    "    \n",
    "    # Generate empty target sequence of length 1.\n",
    "    target_seq = np.zeros((1,1))\n",
    "    \n",
    "    # Populate the first word of target sequence with the start word.\n",
    "    target_seq[0, 0] = target_word_index['sostok']\n",
    "\n",
    "    stop_condition = False\n",
    "    decoded_sentence = ''\n",
    "    while not stop_condition:\n",
    "      \n",
    "        output_tokens, h, c = decoder_model.predict([target_seq] + [e_out, e_h, e_c])\n",
    "\n",
    "        # Sample a token\n",
    "        sampled_token_index = np.argmax(output_tokens[0, -1, :])\n",
    "        sampled_token = reverse_target_word_index[sampled_token_index]\n",
    "        \n",
    "        if(sampled_token!='eostok'):\n",
    "            decoded_sentence += ' '+sampled_token\n",
    "\n",
    "        # Exit condition: either hit max length or find stop word.\n",
    "        if (sampled_token == 'eostok'  or len(decoded_sentence.split()) >= (max_summary_len-1)):\n",
    "            stop_condition = True\n",
    "\n",
    "        # Update the target sequence (of length 1).\n",
    "        target_seq = np.zeros((1,1))\n",
    "        target_seq[0, 0] = sampled_token_index\n",
    "\n",
    "        # Update internal states\n",
    "        e_h, e_c = h, c\n",
    "\n",
    "    return decoded_sentence"
   ]
  },
  {
   "cell_type": "markdown",
   "metadata": {
    "colab_type": "text",
    "id": "6GuDf4TPWt6_"
   },
   "source": [
    "Let us define the functions to convert an integer sequence to a word sequence for summary as well as the reviews:"
   ]
  },
  {
   "cell_type": "code",
   "execution_count": 38,
   "metadata": {
    "colab": {},
    "colab_type": "code",
    "id": "aAUntznIFxj9"
   },
   "outputs": [],
   "source": [
    "def seq2summary(input_seq):\n",
    "    newString=''\n",
    "    for i in input_seq:\n",
    "        if((i!=0 and i!=target_word_index['sostok']) and i!=target_word_index['eostok']):\n",
    "            newString=newString+reverse_target_word_index[i]+' '\n",
    "    return newString\n",
    "\n",
    "def seq2text(input_seq):\n",
    "    newString=''\n",
    "    for i in input_seq:\n",
    "        if(i!=0):\n",
    "            newString=newString+reverse_source_word_index[i]+' '\n",
    "    return newString"
   ]
  },
  {
   "cell_type": "markdown",
   "metadata": {
    "colab_type": "text",
    "id": "9gM4ALyfWwA9"
   },
   "source": [
    "Here are a few summaries generated by the model:"
   ]
  },
  {
   "cell_type": "code",
   "execution_count": 39,
   "metadata": {
    "colab": {},
    "colab_type": "code",
    "id": "BUtQmQTmFxkI",
    "outputId": "f407d9fc-e0cd-4082-98f5-bd1f562dc26f"
   },
   "outputs": [
    {
     "name": "stdout",
     "output_type": "stream",
     "text": [
      "Review: russia finished building kilometre security fence separating annexed crimea mainland ukraine the fence topped wire various types sensors also equipped video surveillance systems according russia federal security service agency russia annexed ukraine peninsula \n",
      "Original summary: russia builds and ukraine \n",
      "Predicted summary:  russia to build military in us\n",
      "\n",
      "\n",
      "Review: milind soman revealed enjoys acting get offers directors directors producers come work that reason see acting added lot directors called saying enjoyed work never asked film said \n",
      "Original summary: enjoy acting but do not get offers from directors \n",
      "Predicted summary:  am not about the films\n",
      "\n",
      "\n",
      "Review: at least people killed tuesday gunman opened fire inside cathedral brazil fire department officials said the attacker stormed metropolitan cathedral city began shooting people according reports the gunman later killed \n",
      "Original summary: dead after gunman opens fire inside brazil \n",
      "Predicted summary:  killed injured in fire at us factory\n",
      "\n",
      "\n",
      "Review: australian cricket team hired three indian spin specialists help training ahead upcoming series pakistan one specialists former india rounder sriram served spin bowling specialist australian team past they experienced good australia peter siddle said trio \n",
      "Original summary: australia indian ahead of pak series \n",
      "Predicted summary:  india series in india series after series\n",
      "\n",
      "\n",
      "Review: following victory telangana assembly elections trs president chandrashekar rao reportedly instructed party leaders identify land set permanent office delhi the centre agreed square yards plot office construction party leader said kcr lay foundation stone office festival added \n",
      "Original summary: kcr to build permanent trs office in delhi reports \n",
      "Predicted summary:  bjp to be renamed as karnataka cm\n",
      "\n",
      "\n",
      "Review: shah rukh khan monday celebrated janmashtami youngest son abram wife gauri residence mannat seen breaking dahi handi garden area abram also tried reach dahi handi along parents waved crowd outside residence \n",
      "Original summary: shah rukh celebrates with son wife gauri \n",
      "Predicted summary:  srk rukh khan to be girl with his\n",
      "\n",
      "\n",
      "Review: mayor poland city died day stabbed heart stomach charity event underwent five hour operation succumbing injuries the year old suspect criminal record said wrongfully civic platform party previously belonged \n",
      "Original summary: mayor dies after being stabbed in heart on stage \n",
      "Predicted summary:  woman stabs himself after being with him\n",
      "\n",
      "\n",
      "Review: ayushmann khurrana said going professional high suddenly wife tahira kashyap diagnosed breast cancer it difficult realised life never perfect so small according us we taking added tahira revealed cancer instagram \n",
      "Original summary: wife cancer when was at high ayushmann \n",
      "Predicted summary:  ayushmann wife wife ayushmann wife diagnosed with cancer\n",
      "\n",
      "\n",
      "Review: the himalaya drug company launched first brand campaign raho raho bringing life vision wellness every home happiness every heart with campaign himalaya aims solve daily problems turn moments happiness range healthcare wellness products backed science research \n",
      "Original summary: promises happiness and to customers in new video \n",
      "Predicted summary:  amazon to launch in india\n",
      "\n",
      "\n",
      "Review: speaking conclave pk lyricist amitabh varma said big complaint prakash jha he made many films bihar shown bihar bad light meanwhile ajit pradhan said must also show positive things bihar jha known socio political films like ajay starrer \n",
      "Original summary: prakash films show bihar in bad light amitabh \n",
      "Predicted summary:  prakash hai dilip kumar to join\n",
      "\n",
      "\n",
      "Review: rjd leader tejashwi yadav sunday met bsp chief mayawati lucknow day latter announced alliance akhilesh yadav samajwadi party he said father jailed rjd chief lalu prasad yadav wanted grand alliance uttar pradesh bsp sp contest seats upcoming lok sabha elections \n",
      "Original summary: lalu wanted sp bsp alliance tejashwi meets mayawati in up \n",
      "Predicted summary:  shivpal will contest lok sabha polls\n",
      "\n",
      "\n",
      "Review: vat whisky available delhi two years state government manufacturer united spirits limited using unauthorised loose three year ban imposed may offence challenged reinstated sales hence discontinued remaining period \n",
      "Original summary: banned for yrs in delhi \n",
      "Predicted summary:  in delhi to be on\n",
      "\n",
      "\n",
      "Review: minister state external affairs mj akbar sunday returned india official trip nigeria amid sexual harassment allegations levelled several women media personnel airport akbar refused comment allegations surfaced wake metoo movement saying there statement later \n",
      "Original summary: minister akbar returns to india amid sexual harassment claims \n",
      "Predicted summary:  mj akbar sues sexual harassment allegations\n",
      "\n",
      "\n",
      "Review: lawsuit filed facebook tuesday accused platform letting companies post job advertisements women it alleged facebook allowed employers post job advertisements shown male users the company earlier accused allowing housing advertisements people based race religion factors \n",
      "Original summary: facebook accused of bias against women in job ads \n",
      "Predicted summary:  facebook fb facebook to remove fake news\n",
      "\n",
      "\n",
      "Review: arjun kapoor said never wanted actor adding looked like really think acting he added tenth standard decided become director watching film lock stock two smoking barrels arjun made acting debut \n",
      "Original summary: looked like never thought about acting arjun \n",
      "Predicted summary:  arjun kapoor is me to be kapoor kapoor\n",
      "\n",
      "\n",
      "Review: year old woman died fell flight stairs new york city subway station carrying one year old baby the station died elevators only quarter new york city subway stations elevators making rest people parents carrying \n",
      "Original summary: us woman carrying baby dies after falling down in \n",
      "Predicted summary:  year old boy dies after falling in us\n",
      "\n",
      "\n",
      "Review: director luv ranjan fired ajay devgn makeup artist harish film de de pyaar de starring devgn film script supervisor paul singh accused sexual harassment she alleged harish gave massage without consent touched inappropriately also thanked ranjan devgn standing \n",
      "Original summary: artist fired from ajay devgn film over metoo allegations \n",
      "Predicted summary:  film fired on film over sexual harassment allegations\n",
      "\n",
      "\n",
      "Review: technology giant apple acquired danish machine learning startup around million last year december the startup previously named visual effects company applies machine learning image video editing apple recently acquired us based startup augmented reality glasses \n",
      "Original summary: apple startup for mn in \n",
      "Predicted summary:  apple based startup raises million\n",
      "\n",
      "\n",
      "Review: at least six people died rescued boat capsized narmada river maharashtra the boat carrying around people way perform river worship ritual official said it suspected incident occurred boat carrying people capacity police said \n",
      "Original summary: drown after boat capsizes in river rescued \n",
      "Predicted summary:  die after boat capsizes in train in delhi\n",
      "\n",
      "\n",
      "Review: soldiers deployed glacier may soon supplied bath made iit delhi alumni three month stay india soldiers posts reaching feet melting ice water requires lot fuel glacier temperatures drop feasible \n",
      "Original summary: soldiers cannot for days may get \n",
      "Predicted summary:  uk court may be in us for\n",
      "\n",
      "\n",
      "Review: italian competition authority imposed two fines total million social media platform facebook misleading users selling data without consent facebook also users trying limit company shares data added the regulator also directed facebook publish apology users website app \n",
      "Original summary: italy regulator fines facebook mn for selling user data \n",
      "Predicted summary:  google fines google data over data breach\n",
      "\n",
      "\n",
      "Review: filmmaker vishal bhardwaj took twitter monday complain technical glitch national anthem produced films division ministry information broadcasting mumbai film festival there technical glitch jai goes tune hurts ear soul can india please get bhardwaj wrote \n",
      "Original summary: on glitch in ministry made national anthem \n",
      "Predicted summary:  nawazuddin starrer leaked fake news in uk\n",
      "\n",
      "\n",
      "Review: finance minister arun jaitley said interview sunday rafale deal clean cancelled despite allegations opposition he added figures regarding pricing placed comptroller auditor general india government wait cag report \n",
      "Original summary: rafale deal will not be cancelled despite allegations jaitley \n"
     ]
    },
    {
     "name": "stdout",
     "output_type": "stream",
     "text": [
      "Predicted summary:  rafale deal is rafale deal is not one rafale deal\n",
      "\n",
      "\n",
      "Review: actor ayushmann khurrana wife tahira kashyap took instagram reveal diagnosed stage breast cancer detected right breast high grade cells simply put stage cancer pre cancerous stage wrote tahira also revealed underwent surgery breast removed \n",
      "Original summary: ayushmann khurrana wife diagnosed with stage breast cancer \n",
      "Predicted summary:  ayushmann khurrana shares me with breast cancer\n",
      "\n",
      "\n",
      "Review: kotak mahindra bank md ceo uday kotak welcomed decisions taken rbi recent board meeting said outcomes positive economy the rbi board proposed restructuring scheme stressed assets micro small medium enterprises loans crore gave banks concession capital norms \n",
      "Original summary: rbi board decisions will be positive for economy uday kotak \n",
      "Predicted summary:  rbi board board will be stake in rbi kotak\n",
      "\n",
      "\n",
      "Review: taapsee pannu said happy metoo movement finally started india gaining momentum adding better late never people used keep asking many years happened india unfortunately gone added actress \n",
      "Original summary: am happy metoo movement is here in india taapsee \n",
      "Predicted summary:  metoo movement is not become nawazuddin\n",
      "\n",
      "\n",
      "Review: year old woman monday night delivered baby platform railway station mumbai the woman along husband waiting board train pune went labour the cctv footage showed women police officials creating makeshift labour room using delivered baby \n",
      "Original summary: yr old delivers baby on railway platform in mumbai \n",
      "Predicted summary:  woman with baby with baby at her sex\n",
      "\n",
      "\n",
      "Review: one person died saturday three storey construction building collapsed bengaluru the deceased one working building collapsed got trapped debris the worker escaped informed authorities deceased the reason collapse suspected deep adjacent building \n",
      "Original summary: dies after under construction building collapses in luru \n",
      "Predicted summary:  killed in fire after fire in mumbai\n",
      "\n",
      "\n",
      "Review: ride hailing startup uber aerial taxi arm uber elevate reportedly considering india one five countries wants launch air taxi service uber likely use small vertical take landing aircraft service make use electric propulsion the launch targeted cities face traffic issues \n",
      "Original summary: uber may launch taxi service in india \n",
      "Predicted summary:  uber to invest million in uber for million\n",
      "\n",
      "\n",
      "Review: several villagers arunachal pradesh became crorepatis thursday received compensation land acquired indian army years ago cheques collectively worth crore handed villagers arunachal pradesh cm khandu following indo war army began acquiring land arunachal build bases roads bridges \n",
      "Original summary: arunachal villagers turn crorepatis yrs after army land \n",
      "Predicted summary:  arunachal govt to cyclone gaja in kerala floods\n",
      "\n",
      "\n",
      "Review: india increase public health spending gdp prime minister narendra modi said wednesday meanwhile claimed india one first countries advocate focused attention he added we made lot progress last years yet lot remains done \n",
      "Original summary: india to increase public health to of gdp by \n",
      "Predicted summary:  india to make pm of pm modi\n",
      "\n",
      "\n",
      "Review: bangkok based restaurant named headed chef garima arora mumbai received first star years first opened the restaurant serves dishes including banana bread pork meanwhile arora said studied jai hind college mumbai worked journalist training become cook \n",
      "Original summary: mumbai chef eatery gets its st star \n",
      "Predicted summary:  world oldest oldest oldest oldest oldest\n",
      "\n",
      "\n",
      "Review: speaking film ek ladki ko dekha toh aisa laga director chopra said film lead stars sonam kapoor anil kapoor perfect combination somewhere helps father daughter real life it definitely helped film added the film features rajkummar rao juhi chawla release february \n",
      "Original summary: anil sonam were perfect for film ek director \n",
      "Predicted summary:  sonam to appear in janhvi kapoor on film reports\n",
      "\n",
      "\n",
      "Review: darren lee couple san francisco us fined million running illicit hotel chain city attorney dennis said monday as part settlement allowed rent units short term rentals least may first sued owners april \n",
      "Original summary: couple fined mn over illegal airbnb in us \n",
      "Predicted summary:  couple fined mn in us for cr\n",
      "\n",
      "\n",
      "Review: chinese phone maker huawei ceo richard yu recent launch company new smartphone mate series said we working foldable phones foldable phones the company earlier set target date releasing foldable device yu said phone yet he disclose details phone \n",
      "Original summary: we re working on foldable phones huawei ceo \n",
      "Predicted summary:  tata motors founder joins new president\n",
      "\n",
      "\n",
      "Review: us astronaut nick hague survived mid air failure iss bound rocket two minutes launch said all instincts inside capsule speak russian he added problem things happen fast hague information russian flight controllers nasa administrator jim bridenstine said earlier \n",
      "Original summary: inside are to speak russian us astronaut \n",
      "Predicted summary:  us open champ on us open\n",
      "\n",
      "\n",
      "Review: after picture police constable archana singh watching month old baby work went viral up police ordered transfer near home agra the picture shows baby sleeping desk archana carried work praising archana uttar pradesh dgp tweeted an ace responsibility trusted \n",
      "Original summary: policewoman who took month old baby to work transferred near home \n",
      "Predicted summary:  year old boy found hanging in mumbai\n",
      "\n",
      "\n",
      "Review: bengaluru based online investment startup groww raised million series round funding led sequoia capital india investors including combinator propel venture partners fellows also participated round launched former flipkart employees lalit harsh jain neeraj singh ishan bansal groww operates direct mutual funds space \n",
      "Original summary: fintech startup raises mn led by sequoia india \n",
      "Predicted summary:  bengaluru based startup raises crore\n",
      "\n",
      "\n",
      "Review: customer named claimed find inside mcdonald outlet uk shared video told staff member ignored carried serving customers said we literally stop someone eating realise added \n",
      "Original summary: uk customer finds in \n",
      "Predicted summary:  uk police finds it to be on\n",
      "\n",
      "\n",
      "Review: ayushmann khurrana said tremendous self belief faith adding always something different the cinema cross critical commercial he said nobody tells believe ayushmann next seen dream girl also stars nushrat bharucha \n",
      "Original summary: always to do something different ayushmann \n",
      "Predicted summary:  ayushmann to star in ayushmann\n",
      "\n",
      "\n",
      "Review: during australia th sydney test india kl rahul attempted take marcus harris catch ravindra jadeja putting full length dive mid jadeja started celebrating thinking catch taken however rahul ball landed short on field umpire ian gave rahul honesty \n",
      "Original summary: rahul admits catch was not clean umpire and gives up \n",
      "Predicted summary:  rahul dravid to get umpire of india rahul\n",
      "\n",
      "\n",
      "Review: members patni burnt effigy sister ravana thursday evening village maharashtra ahead dussehra the founder organisation claims men harassed wives said all laws india men favour women we condemn men \n",
      "Original summary: harassed husbands burn of sister for \n",
      "Predicted summary:  journalist passes away aged\n",
      "\n",
      "\n",
      "Review: time world champion pankaj advani wednesday became first indian win asian tour event defeating china final china the world championships less away indian star defending champion sports \n",
      "Original summary: pankaj becomes st indian to win an asian tour title \n",
      "Predicted summary:  st ever hockey india final at asiad\n",
      "\n",
      "\n",
      "Review: year old engineer working delhi sahni arrested tuesday stealing participant conference held star hotel delhi month ago sahni said facing financial troubles wanted spend money girlfriend the hotel cctv footage helped police establish sahni suspect \n",
      "Original summary: delhi engineer steals to spend on girlfriend arrested \n",
      "Predicted summary:  man held for selling selling female man in delhi\n",
      "\n",
      "\n",
      "Review: congress president rahul gandhi brother law robert vadra said fir filed connection land deal attempt divert attention real issues like increase oil prices vadra along former haryana cm bhupinder singh hooda accused alleged irregularities land deal took place gurugram \n",
      "Original summary: fir against me to from real issues vadra \n"
     ]
    },
    {
     "name": "stdout",
     "output_type": "stream",
     "text": [
      "Predicted summary:  rahul gandhi on vadra gandhi on rahul gandhi\n",
      "\n",
      "\n",
      "Review: the first ever official international football match played england scotland cricket ground west scotland cricket club scotland largest city november as many spectators turned match finished draw england played match formation scotland used \n",
      "Original summary: st ever international football match was played on cricket ground \n",
      "Predicted summary:  st ever player to win in\n",
      "\n",
      "\n",
      "Review: youth arrested maharashtra allegedly killing ex girlfriend th birthday taking secluded place wednesday police said accused took secluded spot pretext cutting birthday cake private following assaulted strangled piece cloth \n",
      "Original summary: ex lover takes girl to area kills her on th day \n",
      "Predicted summary:  man kills to death for refusing to refusing to arrested\n",
      "\n",
      "\n",
      "Review: the afghan taliban tuesday announced death militant group haqqani network founder jalaluddin haqqani following prolonged illness jalaluddin among great distinguished personalities era taliban said haqqani founded network handed operational leadership group years ago son haqqani \n",
      "Original summary: militant group network founder dies \n",
      "Predicted summary:  pak army founder joins mn for mn\n",
      "\n",
      "\n",
      "Review: karnataka man arrested allegedly cheating grandfather lakh the man come take care year old grandfather staying alone he along accomplice stole money locker belonged grandfather filed police complaint observing currency notes missing \n",
      "Original summary: man cheats his year old of lakh arrested \n",
      "Predicted summary:  man arrested for selling men in up to lakh\n",
      "\n",
      "\n",
      "Review: at least four people including newly married woman killed car collided truck gujarat friday the incident happened car driver lost control vehicle crossed wrong side colliding truck coming opposite direction police said the deceased woman husband undergoing treatment \n",
      "Original summary: newly woman others killed in road accident in gujarat \n",
      "Predicted summary:  killed as bus bus in car in delhi\n",
      "\n",
      "\n",
      "Review: harvard university researchers developed soft non toxic wearable sensor detect disabilities premature babies the sensor hand measures force motion hand fingers we developed new type liquid dangerous small drop salt water scientists said \n",
      "Original summary: harvard makes to spot in babies \n",
      "Predicted summary:  iit makes that can be\n",
      "\n",
      "\n",
      "Review: indian railways bagged awards national energy conservation awards held new delhi out five categories indian railways participated three categories railway stations hospitals institutions the awards given bureau energy efficiency ministry power various institutions adopting energy efficiency measures \n",
      "Original summary: indian railways bags awards for energy \n",
      "Predicted summary:  japan to train in st first time in years\n",
      "\n",
      "\n",
      "Review: the european union thursday approved apple planned acquisition british music discovery app saying would reduce competition digital music streaming market the european commission opened full scale investigation deal april the app songs smartphone pointed audio source \n",
      "Original summary: apple acquisition of music app by eu \n",
      "Predicted summary:  amazon fines amazon data breach to\n",
      "\n",
      "\n",
      "Review: aerospace company boeing appointed india president kumar lead fighter aircraft programme us during kumar tenure india boeing launched engineering technology centre bengaluru also established boeing defence india kumar also vice president boeing international \n",
      "Original summary: indian to lead boeing fighter jet programme \n",
      "Predicted summary:  china to invest in jet airways jet airways\n",
      "\n",
      "\n",
      "Review: delhi class girl allegedly raped four men including landlord son lured offer buy pizza police said the accused allegedly took girl room raped along three others influence alcohol police added the accused arrested day \n",
      "Original summary: delhi girl with pizza offer by son raped \n",
      "Predicted summary:  yr old girl raped by year old girl in delhi\n",
      "\n",
      "\n",
      "Review: on asked fan twitter working arjun kapoor ranveer singh said miss lot baba become busy focussing hard panipat boy going kill arjun next seen ashutosh panipat worked ranveer films finding \n",
      "Original summary: baba become too for me ranveer on working with arjun \n",
      "Predicted summary:  was very karan johar on priyanka kareena\n",
      "\n",
      "\n",
      "Review: congress president rahul gandhi tuesday clearing congress reason declaring cm candidate madhya pradesh said kamal nath experience good looks jyotiraditya scindia young dynamic why declare the people state decide cm added he said would use capabilities \n",
      "Original summary: has good looks scindia young rahul on cm pick for mp \n",
      "Predicted summary:  congress workers son son with congress\n",
      "\n",
      "\n",
      "Review: actor randhir kapoor speaking brother rishi kapoor leaving us medical treatment said how people cancer one escalated advanced stage rishi know suffering he even started undergoing tests randhir added \n",
      "Original summary: how can people that rishi has cancer brother \n",
      "Predicted summary:  was up to be with my cancer kapoor\n",
      "\n",
      "\n",
      "Review: picture boy crying next delhi deceased sewer worker anil body helped raise lakh worker son cousin man parents said they also said woman shown anil wife maternal aunt rani however rani claimed living anil years \n",
      "Original summary: in pic that helped raise was man cousin not son parents \n",
      "Predicted summary:  woman woman woman on she she woman her woman\n",
      "\n",
      "\n",
      "Review: senior advocate hs phoolka sunday responded speculations joining bjp following meeting union minister vijay goel saying meeting vijay goel news we good friends meet often he helping sikh cases added this comes phoolka resigned aam aadmi party january \n",
      "Original summary: meeting vijay no news on talks of joining bjp \n",
      "Predicted summary:  bjp jaitley on bjp on bjp\n",
      "\n",
      "\n",
      "Review: members pakistani hockey team danced bollywood songs odisha bhubaneswar edition hockey world cup held pakistan hockey player muhammad irfan sang bollywood song dil salman khan movie tiger hai pakistan currently placed third group \n",
      "Original summary: pakistani hockey players dance to bollywood songs in odisha \n",
      "Predicted summary:  india winners to win in asiad hockey team\n",
      "\n",
      "\n",
      "Review: italian club napoli called italian court decision grave defeat football club appeal two match ban defender koulibaly rejected koulibaly handed ban mocking referee decision subjected racist chants crowd match inter milan san december \n",
      "Original summary: defeat for football on losing appeal against player ban \n",
      "Predicted summary:  scientists football football match after match\n",
      "\n",
      "\n",
      "Review: us president donald trump said country hurry arrive negotiations north korea nuclear programme north korea economy wonderful potential leader kim jong un sees better anyone added the us north korea signed agreement singapore summit completely denuclearise korean peninsula \n",
      "Original summary: us in no hurry over north korea nuclear trump \n",
      "Predicted summary:  trump to resume talks with us with us\n",
      "\n",
      "\n",
      "Review: at least eight people died cyclone titli hit andhra pradesh odisha coast thursday destroyed uprooted several trees electric poles region power supply communication systems took hit states affecting lakhs people around lakh people evacuated odisha ahead cyclone \n",
      "Original summary: killed as cyclone titli hits andhra odisha coast \n",
      "Predicted summary:  dead injured in explosion in odisha\n",
      "\n",
      "\n",
      "Review: nasa osiris rex arrived asteroid bennu flying billion kilometres two years osiris rex launched collect rock samples bennu return earth study the spacecraft spend year mapping asteroid select sample site after collection head back earth \n",
      "Original summary: nasa probe reaches asteroid to collect after flying bn km \n",
      "Predicted summary:  nasa spacecraft to launch the sun in space\n",
      "\n",
      "\n",
      "Review: billionaire elon musk led spacex announced would laying around plus workforce to continue delivering customers succeed developing interplanetary spacecraft global space based internet spacex must become company either developments even attempted separately organisations statement read \n",
      "Original summary: spacex to lay off over workers to become company \n",
      "Predicted summary:  tesla to sell tesla to build tesla chairman elon musk\n",
      "\n",
      "\n",
      "Review: syed kanak media secretary dal bangladesh trampled death wild elephant west bengal friday evening kanak along wife friends visited district jungle safari while returning kanak went near animal take photographs caught \n",
      "Original summary: politician to death by elephant in west bengal \n"
     ]
    },
    {
     "name": "stdout",
     "output_type": "stream",
     "text": [
      "Predicted summary:  policeman shot dead after in bihar\n",
      "\n",
      "\n",
      "Review: telangana bjp mla raja singh sunday said take part swearing ceremony presence pro speaker aimim whose party wants hindus singh also accused aimim patriotic stating never sing vande mataram never say bharat mata ki jai swearing ceremony scheduled january \n",
      "Original summary: won take oath in front of pro speaker gana bjp mla \n",
      "Predicted summary:  bjp mla singh singh singh\n",
      "\n",
      "\n",
      "Review: part time bowler kedar jadhav said ever since ms dhoni asked bowl odi new zealand october life completely changed jadhav bowled first time international cricket match registering figures the year old posted career best figures pakistan india win wednesday \n",
      "Original summary: changed when dhoni asked me to bowl vs nz in jadhav \n",
      "Predicted summary:  india kumble win ganguly for th test win in\n",
      "\n",
      "\n",
      "Review: brazilian footballer ball past martin th minute score winner chelsea newcastle united saturday following win chelsea coach said for us really important player in moment fundamental player stay us \n",
      "Original summary: scores winner for chelsea against united \n",
      "Predicted summary:  liverpool goal win in aus open\n",
      "\n",
      "\n",
      "Review: filmmaker meghna gulzar said content becoming crucial element indian cinema adding earlier lot emphasis given heroes things talking lyricist prasoon joshi said now people hungry content things changed they read reviews go theatre watch particular movie \n",
      "Original summary: content is becoming in indian cinema \n",
      "Predicted summary:  emraan was the mithali\n",
      "\n",
      "\n",
      "Review: swedish midfielder kennedy caught beer thrown crowd running drank celebrate yard free kick goal swedish professional football league match thought awesome funny thing said the year old player scored within six minutes coming substitute \n",
      "Original summary: player catches beer thrown from crowd drinks it to celebrate goal \n",
      "Predicted summary:  player scores from goal with his goal in\n",
      "\n",
      "\n",
      "Review: wishing actress shetty th birthday monday canadian rapper singer drake revealed watching film three times honour birthday happy birthday shetty true goddess drake commented instagram post the singer also wished birthday last year \n",
      "Original summary: watching times wishes shetty on day \n",
      "Predicted summary:  you are my life on sonali on day\n",
      "\n",
      "\n",
      "Review: attacking centre removal cbi director alok verma congress president rahul gandhi said sending verma leave illegal criminal stating appointment removal cbi director done committee three people pm cji leader opposition rahul said insult people india \n",
      "Original summary: removal of cbi chief at am illegal insult to india rahul \n",
      "Predicted summary:  rahul should be in sc to sc on cbi chief\n",
      "\n",
      "\n",
      "Review: speaking inauguration programme uttar pradesh union minister nitin gadkari promised clean river ganga december year earlier august gadkari said projects gange programme worth crore nearing completion he added projects undertaken private sector organisations \n",
      "Original summary: we promise to clean of river ganga before dec gadkari \n",
      "Predicted summary:  govt to build ganga to build ganga gadkari\n",
      "\n",
      "\n",
      "Review: the country largest lender state bank india offered sale three bad loan accounts recover dues worth crore the accounts belong sona global steel industries put auction december sbi recently auctioned bad loan accounts dues worth crore \n",
      "Original summary: sbi to auction bad loan accounts to recover cr dues \n",
      "Predicted summary:  rbi bank to crore in rbi\n",
      "\n",
      "\n",
      "Review: responding trolls body shaming bikini photos television actress kavita kaushik wrote instagram apna lo jaane se pehle she added everyone body put required hard work also stop calling people thin fat bodies forever changing love bodies instead shaming someone else kavita wrote \n",
      "Original summary: se tv actress to body \n",
      "Predicted summary:  of you of of of\n",
      "\n",
      "\n",
      "Review: japanese carmaker nissan chairman carlos ghosn reportedly arrested monday investigation found used company assets personal use carlos also found committed several significant acts misconduct nissan said ghosn representative director greg kelly also reported salary amounts tokyo stock exchange securities report company added \n",
      "Original summary: nissan chairman used firm assets for personal use held report \n",
      "Predicted summary:  nissan motors fires firm arrested against pnb case\n",
      "\n",
      "\n",
      "Review: an indian air force jaguar fighter plane monday crashed uttar pradesh the fighter plane crashed non residential area reported the plane taken gorakhpur air force base routine mission the pilot plane safely iaf said statement \n",
      "Original summary: iaf jaguar fighter plane crashes in up \n",
      "Predicted summary:  pilot crashes in plane after pilot crashes in kolkata\n",
      "\n",
      "\n",
      "Review: facebook revealed discovered security issue affecting almost million user accounts attackers stole facebook access tokens view feature could use take people accounts the view feature temporarily disabled allows users see profile looks like someone else \n",
      "Original summary: facebook reveals million accounts have been attacked \n",
      "Predicted summary:  facebook facebook users to remove users from\n",
      "\n",
      "\n",
      "Review: hungary imposed ban rough sleeping public spaces law came force monday the law empowers police remove rough streets detain destroy personal belongings fail order thrice within days an estimated people homeless hungary \n",
      "Original summary: imposes ban on sleeping \n",
      "Predicted summary:  railways to ban on trains\n",
      "\n",
      "\n",
      "Review: ex england captain andrew strauss wife ruth strauss died aged following battle cancer ruth married andrew two children diagnosed rare form lung cancer december last year strauss said gave family huge comfort ruth died australia born \n",
      "Original summary: ex england captain wife dies aged of cancer \n",
      "Predicted summary:  aus cricketer wife wife dies after being\n",
      "\n",
      "\n",
      "Review: emraan hashmi whose upcoming film cheat india renamed why cheat india following objections censor board said board decision absolutely changing film title last moment make sense emraan added the censor board reportedly proposed change felt original title misleading audience \n",
      "Original summary: emraan on cheat india title change \n",
      "Predicted summary:  uri is not change me to curb mallya mallya\n",
      "\n",
      "\n",
      "Review: rescuers saturday began dig tunnel towards two year old boy trapped well southern spain six days the boy named fell nearly foot deep well family walked private estate total laga there sign life boy inside well \n",
      "Original summary: old trapped in foot deep well in spain rescue operation on \n",
      "Predicted summary:  yr old boy dies in mumbai hotel in mumbai\n",
      "\n",
      "\n",
      "Review: billionaire richard branson monday said stepping chairman virgin hyperloop one adding company needs actively involved leader earlier reported saudi arabia terminated deal supersonic transport system maker branson halted investment talks disappearance journalist jamal khashoggi killed saudi istanbul consulate \n",
      "Original summary: branson steps down as chairman of virgin \n",
      "Predicted summary:  branson to give india as chairman on india\n",
      "\n",
      "\n",
      "Review: three congress workers arrested allegedly picture pm narendra modi petrol pump mp bharat bandh called congress the police said tried damaging property hurt dignity constitutional post pm at least five people suspected involved \n",
      "Original summary: cong workers held for pm modi picture in mp \n",
      "Predicted summary:  pm modi pm modi to be in mp\n",
      "\n",
      "\n",
      "Review: congress president rahul gandhi monday said congress provide lakh every homeless person build homes allowance unemployed voted power telangana he added it would also build bed hospital every mandal treatment costing lakh also extended patients \n",
      "Original summary: congress will give each to homeless in telangana rahul \n",
      "Predicted summary:  rahul gandhi rahul gandhi in rahul\n",
      "\n",
      "\n",
      "Review: edtech startup byju reportedly raised million funding values nearly billion making india fourth valuable startup the funding secured canada investment board naspers ventures general atlantic existing investors started byju counts chan zuckerberg initiative sequoia capital among investors \n",
      "Original summary: byju raises mn funding at bn valuation report \n",
      "Predicted summary:  ola raises mn in funding funding\n",
      "\n",
      "\n",
      "Review: russian startup aiming launch cube satellites create display night sky potential audience billion people with sq km area the orbital display would show advertisements six minute particular region each satellite orbiting near earth altitude km would reflect sunlight represent one pixel \n",
      "Original summary: russian startup to put ads in orbit for global audience \n"
     ]
    },
    {
     "name": "stdout",
     "output_type": "stream",
     "text": [
      "Predicted summary:  uber startup to launch real ride in us\n",
      "\n",
      "\n",
      "Review: economic affairs secretary sc garg friday said proposal ask rbi transfer lakh crore speculated lot speculation going around media government fiscal math completely track garg added he reiterated government meet fiscal deficit target gdp set \n",
      "Original summary: no proposal to ask rbi to transfer or lakh crore govt \n",
      "Predicted summary:  rbi to crore in rbi case\n",
      "\n",
      "\n",
      "Review: slamming congress president rahul gandhi comparing muslim brotherhood rss monday said gandhi ignorant india adding one understand india cannot understand sangh he unaware threat entire world facing islamic rss publicity charge arun kumar said \n",
      "Original summary: rahul about india rss on muslim jibe \n",
      "Predicted summary:  rahul gandhi is not of rss rahul\n",
      "\n",
      "\n",
      "Review: woman jumped well five children village gujarat spirits facing financial difficulties said police while woman eldest daughter rescued villagers children died her husband later said believed someone performed black magic \n",
      "Original summary: woman her jumps in well with kids \n",
      "Predicted summary:  woman killed in maharashtra for refusing to death\n",
      "\n",
      "\n",
      "Review: yoga guru ramdev saturday shared picture journalist goswami social media captioned met goswami thorough patriotic journalist ramdev added he playing important role nation building media goswami former editor chief news anchor times now now currently managing director republic tv \n",
      "Original summary: journalist yoga guru ramdev \n",
      "Predicted summary:  never never are me in my aged\n",
      "\n",
      "\n",
      "Review: an all india radio official accused sexual harassment nine women employees demoted position found guilty national commission women said friday the authority imposed major penalty reduction lower pay scale two stages one year reduction period added \n",
      "Original summary: all india radio official after sexual harassment charges \n",
      "Predicted summary:  us accuses us fired after sexual harassment charges\n",
      "\n",
      "\n",
      "Review: actor ranbir kapoor first choice yash raj films produced romantic comedy film band baaja baaraat rejected movie eventually ranveer singh cast lead role auditioned film thus marking bollywood debut notably ranbir celebrates th birthday today \n",
      "Original summary: ranbir was the st choice for ranveer debut band \n",
      "Predicted summary:  ranbir to star in iaf iaf pilot with reports\n",
      "\n",
      "\n",
      "Review: external affairs minister sushma swaraj thursday left meeting saarc foreign ministers early making statement the meeting also attended pakistani counterpart shah mahmood qureshi said say left meeting midway maybe feeling well the meeting held sidelines un general assembly \n",
      "Original summary: sushma swaraj leaves foreign ministers meeting \n",
      "Predicted summary:  pakistan to pakistan pakistan to meet on india\n",
      "\n",
      "\n",
      "Review: stand captain rohit sharma become highest run india cricket achieving feat second windies lucknow tuesday playing th innings year old overtook virat kohli scored runs innings further shikhar dhawan became sixth indian batsman reach runs \n",
      "Original summary: rohit overtakes kohli to become india highest run scorer \n",
      "Predicted summary:  rohit overtakes to record th odi odi ton in australia\n",
      "\n",
      "\n",
      "Review: harvard researchers created new device may help restore facial movement patients one sided facial the face approach facial uses electrical signals uninjured side face trigger movement paralysed side ultimate goal restore dynamic motion entire researchers said \n",
      "Original summary: implant that may movement post made \n",
      "Predicted summary:  iit brain makes smart that can detect\n",
      "\n",
      "\n",
      "Review: army chief general bipin rawat saturday said stone pelters termed workers terrorists his statement came day army jawan died stone pelting jammu kashmir every time army keeps quiet bears pain time filed fir stone pelters added \n",
      "Original summary: stone workers of terrorists army chief \n",
      "Predicted summary:  army army chief army chief killed in corruption attack\n",
      "\n",
      "\n",
      "Review: china transport ministry monday said country ride hailing firms compromise passengers safety needed if company compliant self disciplined government stand said it comes didi chuxing passenger raped murdered driver forcing firm suspend service \n",
      "Original summary: ride hailing firms that safety not needed china \n",
      "Predicted summary:  china company fined mn for\n",
      "\n",
      "\n"
     ]
    }
   ],
   "source": [
    "for i in range(0,100):\n",
    "    print(\"Review:\",seq2text(x_tr[i]))\n",
    "    print(\"Original summary:\",seq2summary(y_tr[i]))\n",
    "    print(\"Predicted summary:\",decode_sequence(x_tr[i].reshape(1,max_text_len)))\n",
    "    print(\"\\n\")"
   ]
  },
  {
   "cell_type": "markdown",
   "metadata": {
    "colab_type": "text",
    "id": "OTkaYNjHW4lC"
   },
   "source": [
    "This is really cool stuff. Even though the actual summary and the summary generated by our model do not match in terms of words, both of them are conveying the same meaning. Our model is able to generate a legible summary based on the context present in the text.\n",
    "\n",
    "This is how we can perform text summarization using deep learning concepts in Python.\n",
    "\n",
    "#How can we Improve the Model’s Performance Even Further?\n",
    "\n",
    "Your learning doesn’t stop here! There’s a lot more you can do to play around and experiment with the model:\n",
    "\n",
    "I recommend you to **increase the training dataset** size and build the model. The generalization capability of a deep learning model enhances with an increase in the training dataset size\n",
    "\n",
    "Try implementing **Bi-Directional LSTM** which is capable of capturing the context from both the directions and results in a better context vector\n",
    "\n",
    "Use the **beam search strategy** for decoding the test sequence instead of using the greedy approach (argmax)\n",
    "\n",
    "Evaluate the performance of your model based on the **BLEU score**\n",
    "\n",
    "Implement **pointer-generator networks** and **coverage mechanisms**\n",
    " \n",
    "\n"
   ]
  },
  {
   "cell_type": "markdown",
   "metadata": {
    "colab_type": "text",
    "id": "R_qIecuvY5GT"
   },
   "source": [
    "# End Notes\n",
    "\n",
    "If you have any feedback on this article or any doubts/queries, kindly share them in the comments section over [here](https://www.analyticsvidhya.com/blog/2019/06/comprehensive-guide-text-summarization-using-deep-learning-python/) and I will get back to you. And make sure you experiment with the model we built here and share your results with me!"
   ]
  }
 ],
 "metadata": {
  "colab": {
   "collapsed_sections": [],
   "name": "How to build own text summarizer using deep learning.ipynb",
   "provenance": [],
   "version": "0.3.2"
  },
  "kernelspec": {
   "display_name": "Python 3",
   "language": "python",
   "name": "python3"
  },
  "language_info": {
   "codemirror_mode": {
    "name": "ipython",
    "version": 3
   },
   "file_extension": ".py",
   "mimetype": "text/x-python",
   "name": "python",
   "nbconvert_exporter": "python",
   "pygments_lexer": "ipython3",
   "version": "3.8.3"
  }
 },
 "nbformat": 4,
 "nbformat_minor": 1
}